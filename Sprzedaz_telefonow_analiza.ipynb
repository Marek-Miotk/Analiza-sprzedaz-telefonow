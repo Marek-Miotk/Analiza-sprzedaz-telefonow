{
 "cells": [
  {
   "cell_type": "code",
   "execution_count": null,
   "id": "72b49b90-00f3-4021-9b4e-fe8d2bce9d24",
   "metadata": {},
   "outputs": [],
   "source": [
    "import seaborn as sns\n",
    "import pandas as pd\n",
    "import matplotlib.pyplot as plt\n",
    "import numpy as np"
   ]
  },
  {
   "cell_type": "code",
   "execution_count": null,
   "id": "29804381-305f-4260-9411-2ab17621e293",
   "metadata": {},
   "outputs": [],
   "source": [
    "%matplotlib inline"
   ]
  },
  {
   "cell_type": "code",
   "execution_count": null,
   "id": "309cf4be-0931-4a17-879d-83c0f1958143",
   "metadata": {},
   "outputs": [],
   "source": [
    "df = pd.read_csv(\"Sales.csv\")\n",
    "df.head()"
   ]
  },
  {
   "cell_type": "code",
   "execution_count": null,
   "id": "dc1e36c3-d30a-486f-b6b0-e8bdbc1966fe",
   "metadata": {},
   "outputs": [],
   "source": [
    "# Do zbadania:\n",
    "#1 która marka sprzedała najwięcej telefonów\n",
    "#2 jak rozkładała się sprzedaż modeli w obrębie danej marki\n",
    "#3 ile dana marka zarobiła łącznie\n",
    "#4 ile dana marka zarobiła na poszczególnych modelach\n",
    "#5 ile dana marka przyznała łącznie rabatu\n",
    "#6 ile dana marka przyznała rabatu na poszczególnych modelach\n",
    "#7 ile dana marka średnio zarobiła na danych modelach\n",
    "#8 ile dana marka średnio przyznała rabatu na poszczególnych modelach\n",
    "#9 jaka była średnia ceny sprzedaży telefonu w obrębie danej marki\n",
    "#10 jaka była mediana ceny sprzedaży telefonu w obrębie danej marki\n",
    "#11 dystrybucja telefonów dla poszczególnych rozmiarów pamięci \n",
    "#12 korelacja między rozmiarem pamięci a kosztem telefonu"
   ]
  },
  {
   "cell_type": "code",
   "execution_count": null,
   "id": "e75ea810-1201-42ef-8141-1f23da80a08e",
   "metadata": {},
   "outputs": [],
   "source": [
    "#1 która marka sprzedała najwięcej telefonów"
   ]
  },
  {
   "cell_type": "code",
   "execution_count": null,
   "id": "38e33ea0-beca-4eea-8823-e203e86939de",
   "metadata": {},
   "outputs": [],
   "source": [
    "df.value_counts(\"Brands\")"
   ]
  },
  {
   "cell_type": "code",
   "execution_count": null,
   "id": "826b72fa-4af7-426d-9da5-be95b1af2a18",
   "metadata": {},
   "outputs": [],
   "source": [
    "#2 jak rozkładała się sprzedaż modeli w obrębie danej marki"
   ]
  },
  {
   "cell_type": "code",
   "execution_count": null,
   "id": "09f3b009-124a-4ad8-af00-46722626f234",
   "metadata": {},
   "outputs": [],
   "source": [
    "pd.set_option('display.max_rows', None)"
   ]
  },
  {
   "cell_type": "code",
   "execution_count": null,
   "id": "ae960749-f5bc-42cc-8eec-96cc24d90960",
   "metadata": {
    "scrolled": true
   },
   "outputs": [],
   "source": [
    "Samsung = df.loc[(df[\"Brands\"] == \"SAMSUNG\")]\n",
    "Samsung[[\"Brands\", \"Models\"][0:]].value_counts()"
   ]
  },
  {
   "cell_type": "code",
   "execution_count": null,
   "id": "aa1d3830-2f49-4a88-b26a-63ab3aede905",
   "metadata": {},
   "outputs": [],
   "source": [
    "Apple = df.loc[df[\"Brands\"] == \"Apple\"]\n",
    "Apple[[\"Brands\", \"Models\"][0:]].value_counts()"
   ]
  },
  {
   "cell_type": "code",
   "execution_count": null,
   "id": "83b13108-6f08-49c3-8ca7-d6a16183369c",
   "metadata": {},
   "outputs": [],
   "source": [
    "# Analogicznie dla pozostałych marek ..."
   ]
  },
  {
   "cell_type": "code",
   "execution_count": null,
   "id": "5f0403df-0f32-4f3e-b0dc-30f2b3341d96",
   "metadata": {},
   "outputs": [],
   "source": [
    "# Scalone dane"
   ]
  },
  {
   "cell_type": "code",
   "execution_count": null,
   "id": "84e07865-5a01-4fde-b289-31dffc7f6b5c",
   "metadata": {
    "scrolled": true
   },
   "outputs": [],
   "source": [
    "df[\"Licznik\"] = 0\n",
    "df.groupby([\"Brands\", \"Models\"]).count()[\"Licznik\"]"
   ]
  },
  {
   "cell_type": "code",
   "execution_count": null,
   "id": "51ef1718-1654-42e6-862a-fbb834812299",
   "metadata": {},
   "outputs": [],
   "source": [
    "#3 ile dana marka zarobiła łącznie"
   ]
  },
  {
   "cell_type": "code",
   "execution_count": null,
   "id": "7c5fb88a-42c9-437c-9c57-4f571f5c8963",
   "metadata": {},
   "outputs": [],
   "source": [
    "Przychody_marek = df.groupby(\"Brands\")[\"Selling Price\"].sum()\n",
    "Przychody_marek = Przychody_marek.sort_values(ascending = False)\n",
    "Przychody_marek"
   ]
  },
  {
   "cell_type": "code",
   "execution_count": null,
   "id": "c2f8ea5f-c1eb-4db1-aaa7-381ced098f51",
   "metadata": {},
   "outputs": [],
   "source": [
    "#4 ile dana marka zarobiła na poszczególnych modelach"
   ]
  },
  {
   "cell_type": "code",
   "execution_count": null,
   "id": "4b9c9e03-a01c-4f0a-84c6-d54a142d8c68",
   "metadata": {
    "scrolled": true
   },
   "outputs": [],
   "source": [
    "Przychod_modele = df.groupby([\"Brands\", \"Models\"])[\"Selling Price\"].sum()\n",
    "Przychod_modele"
   ]
  },
  {
   "cell_type": "code",
   "execution_count": null,
   "id": "365a003c-6862-40ed-b6fd-e1de81b34146",
   "metadata": {},
   "outputs": [],
   "source": [
    "#5 ile dana marka przyznała łącznie rabatu"
   ]
  },
  {
   "cell_type": "code",
   "execution_count": null,
   "id": "a2148b50-c1dd-4c93-913f-0494c1434e9f",
   "metadata": {},
   "outputs": [],
   "source": [
    "Rabaty_lacznie = df.groupby([\"Brands\"])[\"Discount\"].sum()\n",
    "Rabaty_lacznie = Rabaty_lacznie.sort_values(ascending = False)\n",
    "Rabaty_lacznie"
   ]
  },
  {
   "cell_type": "code",
   "execution_count": null,
   "id": "11bb715d-a341-4a40-9d26-864c2b013fd4",
   "metadata": {},
   "outputs": [],
   "source": [
    "#6 ile dana marka przyznała rabatu na poszczególnych modelach"
   ]
  },
  {
   "cell_type": "code",
   "execution_count": null,
   "id": "83e5f7cb-9d2d-4793-b447-7999ca6fc9fc",
   "metadata": {
    "scrolled": true
   },
   "outputs": [],
   "source": [
    "Rabaty_modele = df.groupby([\"Brands\", \"Models\"])[\"Discount\"].sum()\n",
    "Rabaty_modele"
   ]
  },
  {
   "cell_type": "code",
   "execution_count": null,
   "id": "a89d1b00-e66a-4efa-a02f-41be907b443a",
   "metadata": {},
   "outputs": [],
   "source": [
    "#7 ile dana marka średnio zarobiła na danych modelach"
   ]
  },
  {
   "cell_type": "code",
   "execution_count": null,
   "id": "d1a4b413-dc5f-4e0b-b12a-643c4bf603b1",
   "metadata": {
    "scrolled": true
   },
   "outputs": [],
   "source": [
    "sredni_przychod_modele = (df.groupby([\"Brands\", \"Models\"])[\"Selling Price\"].mean()).round(2)\n",
    "sredni_przychod_modele"
   ]
  },
  {
   "cell_type": "code",
   "execution_count": null,
   "id": "4a2f525c-0fdf-4b3d-b4fd-e9423ed82b4d",
   "metadata": {},
   "outputs": [],
   "source": [
    "#8 ile dana marka średnio przyznała rabatu na poszczególnych modelach"
   ]
  },
  {
   "cell_type": "code",
   "execution_count": null,
   "id": "1cdcb1fb-1e1f-4011-b1ba-87e8b53b8c52",
   "metadata": {
    "scrolled": true
   },
   "outputs": [],
   "source": [
    "sredni_rabat_modele = (df.groupby([\"Brands\", \"Models\"])[\"Discount\"].mean()).round(2)\n",
    "sredni_rabat_modele"
   ]
  },
  {
   "cell_type": "code",
   "execution_count": null,
   "id": "6e958125-7b44-45f7-bcf4-0004b2b6a201",
   "metadata": {},
   "outputs": [],
   "source": [
    "#9 jaka była średnia ceny sprzedaży telefonu w obrębie danej marki\n",
    "#10 jaka była mediana ceny sprzedaży telefonu w obrębie danej marki"
   ]
  },
  {
   "cell_type": "code",
   "execution_count": null,
   "id": "4aa76862-2bba-43cb-8500-31155aa8f4cc",
   "metadata": {},
   "outputs": [],
   "source": [
    "zestawienie_marek = df.groupby([\"Brands\"])[\"Discount\"].sum()\n",
    "\n",
    "zestawienie_marek = zestawienie_marek.reset_index()\n",
    "\n",
    "zestawienie_marek.rename(columns={\"Brands\" : \"Marki\"}, inplace = True)\n",
    "zestawienie_marek.rename(columns={\"Discount\" : \"Rabaty_suma\"}, inplace = True)\n",
    "\n",
    "zestawienie_marek[\"Przychód_suma\"] = zestawienie_marek[\"Marki\"].map(Przychody_marek)\n",
    "\n",
    "srednia_sprzedazy_marek = (df.groupby([\"Brands\"])[\"Selling Price\"].mean()).round(2)\n",
    "zestawienie_marek[\"Przychód_średnia\"] = zestawienie_marek[\"Marki\"].map(srednia_sprzedazy_marek)\n",
    "\n",
    "mediana_sprzedazy_marek = df.groupby([\"Brands\"])[\"Selling Price\"].median()\n",
    "zestawienie_marek[\"Przychód_mediana\"] = zestawienie_marek[\"Marki\"].map(mediana_sprzedazy_marek)\n",
    "\n",
    "zestawienie_marek[\"Rabat_suma\"] = zestawienie_marek[\"Rabaty_suma\"]\n",
    "zestawienie_marek = zestawienie_marek.drop(columns = [\"Rabaty_suma\"])\n",
    "zestawienie_marek.rename(columns = {\"Rabat_suma\" : \"Rabaty_suma\"}, inplace = True)\n",
    "\n",
    "srednia_rabatow_marek = (df.groupby([\"Brands\"])[\"Discount\"].mean()).round(2)\n",
    "zestawienie_marek[\"Rabaty_średnia\"] = zestawienie_marek[\"Marki\"].map(srednia_rabatow_marek)\n",
    "mediana_rabatow_marek = df.groupby([\"Brands\"])[\"Discount\"].median()\n",
    "zestawienie_marek[\"Rabaty_mediana\"] = zestawienie_marek[\"Marki\"].map(mediana_rabatow_marek)\n",
    "\n",
    "zestawienie_marek"
   ]
  },
  {
   "cell_type": "code",
   "execution_count": null,
   "id": "81016b15-7471-430a-8bc0-446bca640531",
   "metadata": {},
   "outputs": [],
   "source": [
    "#11 dystrybucja telefonów dla poszczególnych rozmiarów pamięci \n",
    "\n",
    "dystrybucja = df.groupby([\"Storage\", \"Brands\"]).count()\n",
    "dystrybucja = dystrybucja.reset_index()\n",
    "dystrybucja.head(5)\n"
   ]
  },
  {
   "cell_type": "code",
   "execution_count": null,
   "id": "7ca688fe-53d3-4855-9dfc-5fe5bb3a2ba7",
   "metadata": {},
   "outputs": [],
   "source": [
    "dystrybucja2 = dystrybucja.groupby(\"Storage\").sum(numeric_only = True)\n",
    "dystrybucja2 = dystrybucja2.reset_index()\n",
    "\n",
    "dystrybucja_wykres = sns.barplot(x = \"Storage\", y = \"Licznik\", data = dystrybucja2)\n",
    "plt.close()\n",
    "plt.figure(layout = \"constrained\", figsize = (12,5))\n",
    "plt.xticks(rotation=90)\n",
    "for container in dystrybucja_wykres.containers:\n",
    "    dystrybucja_wykres.bar_label(container, fmt='%.0f')\n",
    "dystrybucja_wykres.figure"
   ]
  },
  {
   "cell_type": "code",
   "execution_count": null,
   "id": "4e4bc05d-2850-45a1-9dc6-5bc2d17e990c",
   "metadata": {},
   "outputs": [],
   "source": [
    "#12 korelacja między rozmiarem pamięci a kosztem telefonu\n"
   ]
  },
  {
   "cell_type": "code",
   "execution_count": null,
   "id": "378c60f2-29fa-47d2-8c92-4cf1d85386a6",
   "metadata": {
    "scrolled": true
   },
   "outputs": [],
   "source": [
    "df2 = df\n",
    "df2.head(5)"
   ]
  },
  {
   "cell_type": "code",
   "execution_count": null,
   "id": "738ecfee-d1a3-426d-94fe-b3c3c103841f",
   "metadata": {
    "scrolled": true
   },
   "outputs": [],
   "source": [
    "df2.sort_values(\"Storage\")\n",
    "df2"
   ]
  },
  {
   "cell_type": "code",
   "execution_count": null,
   "id": "4d195265-a6be-4394-82ea-3690b04698bc",
   "metadata": {},
   "outputs": [],
   "source": [
    "def konwersja_na_GB(pamiec):\n",
    "    if not isinstance(pamiec, str):\n",
    "        return None\n",
    "\n",
    "    pamiec = pamiec.strip().upper()\n",
    "\n",
    "    if \"Expandable\" in pamiec or not any(wartosc in pamiec for wartosc in ['MB', 'GB', 'TB']):\n",
    "            return None\n",
    "\n",
    "    try:\n",
    "        if 'TB' in pamiec:\n",
    "            return float(pamiec.replace('TB', '').strip()) * 1024\n",
    "        elif 'GB' in pamiec:\n",
    "            return float(pamiec.replace('GB', '').strip())\n",
    "        elif 'MB' in pamiec:\n",
    "            return float(pamiec.replace('MB', '').strip()) / 1024\n",
    "    except ValueError:\n",
    "        return None\n",
    "\n",
    "df2[\"Storage_GB\"] = df2[\"Storage\"].apply(konwersja_na_GB)\n",
    "df2.head(5)"
   ]
  },
  {
   "cell_type": "code",
   "execution_count": null,
   "id": "d95bb9cb-4f35-463a-8546-639a7a64da98",
   "metadata": {},
   "outputs": [],
   "source": [
    "plt.close()\n",
    "kor_pamiec_cena = sns.lmplot(x = \"Storage_GB\", y = \"Selling Price\", hue = \"Brands\", data = df2)\n",
    "kor_pamiec_cena.figure"
   ]
  },
  {
   "cell_type": "code",
   "execution_count": null,
   "id": "c260024d-867f-4a64-93bb-dfa3052e475b",
   "metadata": {},
   "outputs": [],
   "source": [
    "df_selekcja = df2.loc[(df2[\"Brands\"] == \"Apple\") | (df2[\"Brands\"] == \"SAMSUNG\") | (df2[\"Brands\"] == \"realme\") | (df2[\"Brands\"] == \"ASUS\")]\n",
    "df_selekcja\n",
    "\n",
    "kor_pamiec_cena_selekcja = sns.lmplot(x = \"Storage_GB\", y = \"Selling Price\", col = \"Brands\", data = df_selekcja)\n",
    "kor_pamiec_cena_selekcja.figure"
   ]
  }
 ],
 "metadata": {
  "kernelspec": {
   "display_name": "Python 3 (ipykernel)",
   "language": "python",
   "name": "python3"
  },
  "language_info": {
   "codemirror_mode": {
    "name": "ipython",
    "version": 3
   },
   "file_extension": ".py",
   "mimetype": "text/x-python",
   "name": "python",
   "nbconvert_exporter": "python",
   "pygments_lexer": "ipython3",
   "version": "3.13.5"
  }
 },
 "nbformat": 4,
 "nbformat_minor": 5
}
